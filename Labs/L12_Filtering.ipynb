{
 "cells": [
  {
   "cell_type": "markdown",
   "metadata": {},
   "source": [
    "# DSP Lab 12: Filtering \n",
    "\n",
    "# Objective\n",
    "\n",
    "Students should be able to design basic filters and perform signal filtering operations in Matlab\n",
    "\n",
    "# Theoretical notions\n",
    "\n",
    "# Matlab functions\n",
    "\n",
    "Use `fir1()`, `fir2()` or `firmp()` to design a FIR filter.\n",
    "\n",
    "Use `filter()` to apply a filter to an input signal\n",
    "\n",
    "\n",
    "# Exercises\n",
    "\n",
    "1. Load the ECG signal from the file `TODO.mat`\n",
    "\n",
    "    - Plot the signal\n",
    "    - Plot the signal's DFT magnitude spectrum\n",
    "    \n",
    "    \n",
    "2. Design a bandpass filter of order 20 for the frequency band 0.05Hz - 100 Hz (Hint: you need to know the sampling frequency, and convert Hz into discrete frequencies)\n",
    "\n",
    "3. Filter the signal with the designed filter and plot the result against the original signal. Is there a delay? Why?\n",
    "\n",
    "4. Use `filtfilt()` instead of `filter()` to perform zero-phase filtering of the same signal (in fact, it runs the filter twice, once from left to right and a second time from right to left). Plot the result against the original signal. Is there a delay?\n",
    "\n",
    "\n",
    "# Final questions\n",
    "\n",
    "TBD"
   ]
  }
 ],
 "metadata": {
  "kernelspec": {
   "display_name": "Matlab",
   "language": "matlab",
   "name": "matlab"
  },
  "language_info": {
   "codemirror_mode": "octave",
   "file_extension": ".m",
   "help_links": [
    {
     "text": "MetaKernel Magics",
     "url": "https://metakernel.readthedocs.io/en/latest/source/README.html"
    }
   ],
   "mimetype": "text/x-octave",
   "name": "matlab",
   "version": "0.16.9"
  }
 },
 "nbformat": 4,
 "nbformat_minor": 4
}
