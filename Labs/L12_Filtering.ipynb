{
 "cells": [
  {
   "cell_type": "markdown",
   "metadata": {},
   "source": [
    "# DSP Lab 12: Filtering of an ECG signal\n",
    "\n",
    "# Objective\n",
    "\n",
    "Students should be able to design a basic filters and perform signal filtering operations in Matlab\n",
    "\n",
    "# Theoretical notions\n",
    "\n",
    "# Matlab functions\n",
    "\n",
    "## Filter design\n",
    "\n",
    "Use `fdatool()` for a filter design GUI. Use `fir1()`, `fir2()` or `firpm()` to design a FIR filter programmatically. \n",
    "\n",
    "You can also use online tools like TFilter ([http://t-filter.engineerjs.com/](http://t-filter.engineerjs.com/)).\n",
    "\n",
    "## Filtering \n",
    "\n",
    "Use `filter()` to apply a filter to an input signal:"
   ]
  },
  {
   "cell_type": "code",
   "execution_count": null,
   "metadata": {},
   "outputs": [],
   "source": [
    "y = filter(b,a,x)"
   ]
  },
  {
   "cell_type": "markdown",
   "metadata": {},
   "source": [
    "- b = the numerator coefficients of H(z)\n",
    "- a = the denominator coefficients of H(z)\n",
    "- x = the input signal\n",
    "- y = the output filter\n",
    "\n",
    "For an FIR filter, `a = 1` and `b =` the impulse response `h`."
   ]
  },
  {
   "cell_type": "markdown",
   "metadata": {},
   "source": [
    "# Exercises\n",
    "\n",
    "1. Load the signal from `ECGsignal.mat` and display it.\n",
    "\n",
    "2. Filter the ECG signal with a band-pass filter between 5Hz and 100Hz (according to the recommendations here: [https://www.hindawi.com/journals/isrn/2012/706217/](https://www.hindawi.com/journals/isrn/2012/706217/). \n",
    "The sampling frequency of the ECG signal is 360 Hz.\n",
    "\n",
    "    - compute the discrete cutoff frequencies of the band-pass filter\n",
    "    - use the online tool TFilter to design a linear-phase bandpass filter with the required specifications\n",
    "    - copy-paste the impulse response in a Matlab or Octave script\n",
    "    - filter the ECG signal and display the output and the input signals\n",
    "    - what is the delay introduced by filtering? (look at the peaks)\n",
    "    \n",
    "    \n",
    "3. Use `filtfilt()` instead of `filter()` to perform zero-phase filtering of the same signal (in fact, it runs the filter twice, once from left to right and a second time from right to left). Plot the result against the original signal. Is there a delay?\n",
    "\n",
    "\n",
    "# Final questions\n",
    "\n",
    "TBD"
   ]
  }
 ],
 "metadata": {
  "kernelspec": {
   "display_name": "Matlab",
   "language": "matlab",
   "name": "matlab"
  },
  "language_info": {
   "codemirror_mode": "octave",
   "file_extension": ".m",
   "help_links": [
    {
     "text": "MetaKernel Magics",
     "url": "https://metakernel.readthedocs.io/en/latest/source/README.html"
    }
   ],
   "mimetype": "text/x-octave",
   "name": "matlab",
   "version": "0.16.9"
  }
 },
 "nbformat": 4,
 "nbformat_minor": 4
}
