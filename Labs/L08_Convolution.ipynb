{
 "cells": [
  {
   "cell_type": "markdown",
   "metadata": {},
   "source": [
    "# DSP Lab 08: Convolution and some of its applications\n",
    "\n",
    "\n",
    "## 1. Objective\n",
    "\n",
    "Students should understand the convolution equation, and how to use convolution in Matlab.\n",
    "\n",
    "## 2. Theoretical aspects\n",
    "\n",
    "### 2.1 Convolution operation\n",
    "\n",
    "For two signals $x[n]$ and $h[n]$, the **convolution** operation is defined as\n",
    "\n",
    "$$y[n] = \\sum_{k=-\\infty}^{\\infty}x[k] h[n-k]$$\n",
    "\n",
    "When one signal is the input to a LTI system, and the other signal is\n",
    "the impulse response of the system, **the output of the system is the convolution \n",
    "between the input and the impulse response**.\n",
    "\n",
    "The order of the two signals does not matter. One of them must thave the indices $[k]$ and the other one $[n-k]$\n",
    "\n",
    "Properties of convolution:\n",
    "\n",
    "  * it is commutative\n",
    "  * it is associative\n",
    "  * convolution with $\\delta[n]$ leaves the signal unchanged\n",
    "\n",
    "LTI systems interconnection:\n",
    "\n",
    "  * systems connected in series $<=>$ convolution of their impulse responses\n",
    "  * systems connected in parallel $<=>$ sum of their impulse responses\n",
    "\n",
    "  \n",
    "### 2.2 Convolution in Matlab\n",
    "\n",
    "Convolution of two vectors in Matlab is achieved with the function `conv()`:"
   ]
  },
  {
   "cell_type": "code",
   "execution_count": null,
   "metadata": {},
   "outputs": [],
   "source": [
    "a = [1, 2, 3, 4, 5];\n",
    "b = [2, 1, 0, 3];\n",
    "y = conv(a,b)           % Convolution of vectors a and b"
   ]
  },
  {
   "cell_type": "markdown",
   "metadata": {},
   "source": [
    "### 2.3 Echo (reverb) in sound processing\n",
    "\n",
    "One of the prominent applications of convolution is in music/sound effects. As an example, consider an **echo** (or **reverberation** or **reverb** efect.\n",
    "\n",
    "In acoustics, an echo is similar to a system in the following way:\n",
    "- you emit an impulse, e.g. a short sound (this is the input impulse)\n",
    "- you receive back multiple reflections of you sound, with various delays and decaying amplitudes, as the signal is reflected and bounces back (this is the impulse response, i.e. the response of the system to your impulse)\n",
    "\n",
    "There are techniques to actually measure the **impulse response of a room** (a cathedral, a stadium etc), which characterizes the reverberation effect of that space.\n",
    "\n",
    "Then one can transplant reverberation effect over a sound signal by preforming a convolution between the sound signal and the impulse reponse which characterizes that particular room or open space."
   ]
  },
  {
   "cell_type": "markdown",
   "metadata": {},
   "source": [
    "## 3. Exercises\n",
    "\n",
    "1. Load an audio signal and extract an 100000-long sequence of it.\n",
    "Convolve the sequence with the impulse response $\\{ 1/6, 1/6, 1/6, 1/6, 1/6, 1/6\\}$, using\n",
    "the `conv()` function from Matlab.\n",
    "\n",
    "    a. Play the resulting sequence and compare with the original.\n",
    "    \n",
    "    b. What type of filter do we implement here? (discussion)\n",
    "\n",
    "2. Download the \"IM Reverbs Pack\" archive from [http://www.voxengo.com/impulses/](http://www.voxengo.com/impulses/).\n",
    "It contains impulse responses that create a reverberation effect. \n",
    "\n",
    "    a. Unzip and play the file \"Scala Milan Opera Hall.wav\".\n",
    "    \n",
    "    b. Load file \"Scala Milan Opera Hall.wav\" in Matlab (use `audioread()`). Restrict the data to about 1 second length.\n",
    "    Call the resulting vector **`h`**.\n",
    "    \n",
    "    c. Load the first 4 seconds of \"Kalimba.mp3\" (use `audioread()`), convolve with **`h`** and play the result (use `sound()` or `audioplayer()`).\n",
    "    \n",
    "    How does the signal sound? What audio effect did we implement here?\n",
    "\n",
    "\n",
    "3. Load the first 4 seconds of \"Kalimba.mp3\" (use `audioread()`), convolve first with one impulse response, and then convolve the result with a second impulse response from the pack. \n",
    "  \n",
    "    a. Play the resulting signal. How does the signal sound? \n",
    "    \n",
    "    b. Compute and Display the equivalent impulse response of the complete system\n",
    "\n",
    "4. Check the length of the convolution result vector, and deduce the general\n",
    "rule: what is length of the convolution of two signals of lengths $L_1$ and $L_2$?\n",
    "\n",
    "1. Implement a Matlab function `y = myconv(x,h)` which implements convolution.\n",
    "The function is given two input vectors and outputs the resulting vector.\n",
    "\n",
    "\n",
    "# Final questions\n",
    "\n",
    "\n",
    "1. TBD"
   ]
  }
 ],
 "metadata": {
  "kernelspec": {
   "display_name": "Matlab",
   "language": "matlab",
   "name": "matlab"
  },
  "language_info": {
   "codemirror_mode": "octave",
   "file_extension": ".m",
   "help_links": [
    {
     "text": "MetaKernel Magics",
     "url": "https://metakernel.readthedocs.io/en/latest/source/README.html"
    }
   ],
   "mimetype": "text/x-octave",
   "name": "matlab",
   "version": "0.16.9"
  }
 },
 "nbformat": 4,
 "nbformat_minor": 4
}
