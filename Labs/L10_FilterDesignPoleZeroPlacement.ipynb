{
 "cells": [
  {
   "cell_type": "markdown",
   "metadata": {},
   "source": [
    "# DSP Lab 10: Filter Design by Pole and Zero Placement\n",
    "\n",
    "\n",
    "## 1. Objective\n",
    "\n",
    "Students should understand how the pole-zero diagram influences \n",
    "the frequency response of a filter, and be able to design basic\n",
    "digital filters using the built-in tools of Matlab.\n",
    "\n",
    "# Theoretical notions\n",
    "\n",
    "In this course, we frequently used Z transforms with polynomials as numerator and denominator, denoted as $B(z)$ (numerator) and $A(z)$ (denominator). \n",
    "A polynomial is completely determined by its roots and a scaling factor.\n",
    "\n",
    "Definitions:\n",
    "\n",
    "  * the **zeros** of $X(z)$ are the roots of the numerator $B(z)$\n",
    "  * the **poles** of $X(z)$ are the roots of the denominator $A(z)$\n",
    "\n",
    "The zeros are usually named $z_1, z_2, ... z_M$, and the poles $p_1, p_2, ... p_N$.\n",
    "\n",
    "The poles and zeros are typically represented graphically in the complex plane, and in simple cases their position can indicate rapidly some properties of the filters.\n",
    "\n",
    "In this laboratory we will study how the position of zeros and poles influences the amplitude response of a filter."
   ]
  },
  {
   "cell_type": "markdown",
   "metadata": {},
   "source": [
    "# Exercises\n",
    "\n",
    "1. Open the Filter Design tool in Matlab (call `fdatool` in command line).\n",
    "Draw two zeros and two plots and place them such as to obtain:\n",
    "    - a Low-Pass filter\n",
    "    - a High-Pass filter\n",
    "    - a Band-Pass filter\n",
    "    - a Band-Stop filter\n",
    "    \n",
    "    Visualize the frequency response, the impulse response and the filter coefficients in each case.\n",
    "\n",
    "\n",
    "2. Using the controls available in the Filter Design window, design \n",
    "    - a Low-Pass filter of order 3, IIR, with cutoff frequency 0.1\n",
    "    - a High-Pass filter of order 3, IIR, with cutoff frequency 0.4\n",
    "    - a Band-Pass filter of order 4, IIR, with frequency pass-band [0.22 0.28]\n",
    "    - a Band-Stop filter of order 4, IIR, with frequency stop-band [0.22 0.28]\n",
    "    - a linear-phase FIR filter of order \n",
    "\n",
    "  Experiment with the various options available. What happens in case of:\n",
    "      - a larger filter order?\n",
    "      - different filter types (Butterworth / Chebyshev 1 / Chebyshev 2 / Elliptic)?\n",
    "\n",
    "\n",
    "3. Generate a 300-long periodic square signal, composed of 30 values of 1 followed by 30 values of 0, \n",
    "repeated for 5 times. Filter the signal with every filter from the previous exercise (use `filter()`).\n",
    "Plot a figure with 5x1 subfigures showing the original signal and the outputs of all filters.\n",
    "\n",
    "4. Apply these filters on the sample signals `mtlb`, `chirp` and `train` (call `load mtlb`, `load chirp` and `load train`).\n",
    "Play the outputs at the speakers (`soundsc()`).\n",
    "\n",
    "\n",
    "\n",
    "# Final questions\n",
    "1. What happens if we place a pole and a zero in the exact same spot? What happens? (think from a mathematical point of view)\n",
    "\n",
    "2. Can we have multiple zeros with the same value, or multiple poles with the same value?"
   ]
  }
 ],
 "metadata": {
  "kernelspec": {
   "display_name": "Matlab",
   "language": "matlab",
   "name": "matlab"
  },
  "language_info": {
   "codemirror_mode": "octave",
   "file_extension": ".m",
   "help_links": [
    {
     "text": "MetaKernel Magics",
     "url": "https://metakernel.readthedocs.io/en/latest/source/README.html"
    }
   ],
   "mimetype": "text/x-octave",
   "name": "matlab",
   "version": "0.16.9"
  }
 },
 "nbformat": 4,
 "nbformat_minor": 4
}
