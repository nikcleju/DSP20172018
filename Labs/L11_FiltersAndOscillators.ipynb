{
 "cells": [
  {
   "cell_type": "markdown",
   "metadata": {},
   "source": [
    "# DSP Lab 11: Filters and Oscillators\n",
    "\n",
    "\n",
    "# Objective\n",
    "\n",
    "Students should be able to design basic filters and oscillators in Matlab\n",
    "and implement them in Simulink.\n",
    "\n",
    "# Theoretical notions\n",
    "\n",
    "Oscillators are unstable systems which have at least one pole exactly **on the unit circle**, i.e. the modulus of the pole value is exactly 1. \n",
    "\n",
    "$$z = 1 \\cdot e^{j \\omega}$$\n",
    "\n",
    "In order to have real values for the coefficients, if the pole is outside of the real axis, there must also be a complex conjugate pole,\n",
    "i.e. there will be a pair of complex conjugate poles.\n",
    "\n",
    "The phase of the zero, i.e. its angle in the graphical representation, determines the frequency (pulsation) of the oscillator.\n",
    "\n",
    "# Exercises\n",
    "\n",
    "1. Use the Filter Design tool in Matlab (`fdatool`) to design a \n",
    "IIR high-pass filter with order 3, with cutoff frequency $0.07$. Implement the filter in Simulink and then:\n",
    "  1. apply the filter on an audio file and listen to the result (if possible)\n",
    "  2. apply at the input the signal $x[n] = \\cos(2 \\pi 0.03 n) + \\cos(2 \\pi 0.18 n)$ and visualize the output $y[n]$. Compare with the input signal.\n",
    "\n",
    "\n",
    "2. Use the Filter Design tool in Matlab (`fdatool`) to design an oscillator\n",
    "with frequency 0.05. Implement it in Simulink, visualize & play the output signal.\n",
    "\n",
    "  Use the following steps to design the oscillator:\n",
    "    1. design a system of order 2 with 2 conjugate poles placed **on the unit circle** \n",
    "    at the correct frequency, and 2 zeros at low & high frequencies\n",
    "    2. implement the system in Simulink, **omitting the input signal** (not necessary)\n",
    "    3. set a non-zero initial condition in the system, to start-up the oscillator\n",
    "\n",
    "\n",
    "# Final questions\n",
    "\n",
    "1. Why do we need a non-zero initial condition in Simulink? What happens if we don't set it?\n",
    "\n",
    "2. What happens if we have double poles on the unit circle, instead of single poles?\n",
    "\n",
    "3. Do the position of the zeros influence the behavior or the implementation of the oscillator?"
   ]
  }
 ],
 "metadata": {
  "kernelspec": {
   "display_name": "Matlab",
   "language": "matlab",
   "name": "matlab"
  },
  "language_info": {
   "codemirror_mode": "octave",
   "file_extension": ".m",
   "help_links": [
    {
     "text": "MetaKernel Magics",
     "url": "https://metakernel.readthedocs.io/en/latest/source/README.html"
    }
   ],
   "mimetype": "text/x-octave",
   "name": "matlab",
   "version": "0.16.9"
  }
 },
 "nbformat": 4,
 "nbformat_minor": 4
}
