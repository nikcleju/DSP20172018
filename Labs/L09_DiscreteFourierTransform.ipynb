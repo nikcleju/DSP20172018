{
 "cells": [
  {
   "cell_type": "markdown",
   "metadata": {},
   "source": [
    "# DSP Lab 09: The Discrete Fourier Transform\n",
    "\n",
    "\n",
    "## 1. Objective\n",
    "\n",
    "The students shall know how to use Matlab's `fft()`\n",
    "and `ifft()` functions for frequency analysis of\n",
    "discrete signals.\n",
    "\n",
    "## 2. The Discrete Fourier Transform (DFT)\n",
    "\n",
    "A discrete, periodic signal of period $N$: $$x[n] = x[n + N]$$ can always be decomposed as a **sum of complex exponentials**:\n",
    "\n",
    "  $$x[n] = \\sum_{k=0}^{N-1} X_k e^{j 2 \\pi k n / N}, n=0,1,... N-1$$\n",
    "\n",
    "The coefficients $X_k$ can be found with:\n",
    "    \n",
    "  $$X_k = \\frac{1}{N} \\sum_{n=0}^{N-1} x[n] e^{- j 2 \\pi k n /N}$$\n",
    "\n",
    "\n",
    "Compared to the Fourier series of continuous signals:\n",
    "\n",
    "  - the fundamental frequency is $f_0 = 1/N$\n",
    "  - there are only $N$ terms, with frequencies $k \\cdot f_0$:\n",
    "      * $0, f_0, 2 f_0, ... (N-1) f_0$\n",
    "  - there are only $N$ distinct coefficients $X_k$\n",
    "  - the $N$ coefficients $c_k$ can be chosen like $- \\frac{N}{2} < k  \\leq \\frac{N}{2}$\n",
    "  => the frequencies span the range $-1/2 ... 1/2$\n",
    "    $$-\\frac{1}{2} < f_k \\leq \\frac{1}{2}$$\n",
    "    $$-\\pi < \\omega_k \\leq \\pi$$\n",
    "\n",
    "### 2.1 Basic properties of the DFT coefficients\n",
    "\n",
    "1. Signal is **discrete** --> coefficients are **periodic** with period N\n",
    "$$X_{k+N} = \\frac{1}{N} \\sum_{n=0}^{N-1} x[n] e^{- j 2 \\pi (k+N) n / N} = \\frac{1}{N} \\sum_{n=0}^{N-1} x[n] e^{- j 2 \\pi k n / N}$$\n",
    "\n",
    "2. If signal is real $x[n] \\in \\mathbb{R}$, the coefficients are **even**:\n",
    "    - $X_k^* = X_{-k}$\n",
    "    - $|X_k| = |X_{-k}|$\n",
    "    - $\\angle X_k = \\angle D_{-k}$\n",
    "    \n",
    "- Together with periodicity:\n",
    "    - $|X_k| = |X_{-k}| = |X_{N-k}|$\n",
    "    - $\\angle X_k = - \\angle X_{-k} = - \\angle X_{N-k}$\n",
    "\n",
    "### 2.2 Expressing as sum of sinusoids\n",
    "\n",
    "The DFT indicates that a discrete, periodical signals can always be written as a sum of sinusoidal signals.\n",
    "\n",
    "- Grouping terms with $X_k$ and $X_{-k}$ we get\n",
    "$$x[n] = X_0 + 2 \\sum_{k=1}^L |X_k| cos(2 \\pi \\frac{k}{N} + \\angle X_k)$$\n",
    "where $L = N/2$ or $L = (N-1)/2$ depending if $N$ is even or odd\n",
    "\n",
    "- Signal = DC value + a finite sum of sinusoids with frequencies $k f_0$\n",
    "    * $|X_k|$ give the amplitudes (x 2)\n",
    "    * $\\angle X_k$ give the phases\n",
    "\n",
    "## 3. Matlab functions\n",
    "\n",
    "In Matlab, the DFT coefficients are computed with the function `fft()`. The inverse DFT is computed with `ifft()`.\n",
    "\n",
    "Example:"
   ]
  },
  {
   "cell_type": "code",
   "execution_count": null,
   "metadata": {},
   "outputs": [],
   "source": [
    "x = [0 1 2 3 4 5 6];\n",
    "S = fft(x)l     % Compute the DFT\n",
    "x2 = ifft(x)    % Compute back the signal"
   ]
  },
  {
   "cell_type": "markdown",
   "metadata": {},
   "source": [
    "The DFT coefficients, like any Fourier transform, are **complex numbers** in general. Their modulus and phase can be obtained with `abs()` and `angle()`."
   ]
  },
  {
   "cell_type": "code",
   "execution_count": null,
   "metadata": {},
   "outputs": [],
   "source": [
    "% Plot the modulus and phase of the Fourier coefficients\n",
    "S_mod = abs(S)\n",
    "S_phase = angle(S)\n",
    "plot(S_mod)\n",
    "figure\n",
    "plot(S_phase)"
   ]
  },
  {
   "cell_type": "markdown",
   "metadata": {},
   "source": [
    "The coefficients are returned as a vector $[X_0, X_1, \\dots X_{N-1}]$. They can be rearranged in the order $[X_{-N/2+1}, \\dots X_0, \\dots X_{N/2-1}]$ with the function `fftshift()`:"
   ]
  },
  {
   "cell_type": "code",
   "execution_count": null,
   "metadata": {},
   "outputs": [],
   "source": [
    "figure\n",
    "plot(fftshift(S_mod)\n",
    "figure\n",
    "plot(fftshift(S_phase))"
   ]
  },
  {
   "cell_type": "markdown",
   "metadata": {},
   "source": [
    "### 3.1 Matlab subplots\n",
    "\n",
    "A figure in Matlab can be split into multiple parts with `subplot(a, b, c)`. The function takes 3 arguments: \n",
    "  - a = number of rows of the split\n",
    "  - b = number of columns of the split\n",
    "  - c = the current part we are in.\n",
    "\n",
    "Example:"
   ]
  },
  {
   "cell_type": "code",
   "execution_count": null,
   "metadata": {},
   "outputs": [],
   "source": [
    "figure                % Make new figure window\n",
    "subplot(2, 1, 1)      % Split in 2 rows, 1 column. We are now in part 1 of the split\n",
    "plot(S_mod)                % Plot is displayed in the first part\n",
    "subplot(2, 1, 2)      % Use same split in 2 rows, 1 column. But we move now to part 2 of the split\n",
    "plot(S_mod)                % Plot is displayed in the second part"
   ]
  },
  {
   "cell_type": "markdown",
   "metadata": {},
   "source": [
    "## 4. Exercises\n",
    "\n",
    "1. Generate a 100 samples long signal `x` defined as \n",
    "$x[n] = 0.7 \\cos(2 \\pi f_1 n) + 1.2 \\sin(2 \\pi f_2 n),$\n",
    "with $f_1 = 0.05$ and $f_1 = 0.1$.\n",
    "    \n",
    "    a. Plot the signal in the top third of a figure (use `subplot()`).\n",
    "    \n",
    "    b. Compute the Fourier series coefficients with `fft()` and \n",
    "    plot their magnitude in the middle third, and their phase in the lower third.\n",
    "    \n",
    "    c. Repeat the plot but do the FFT in N=1000 points (use `fft(x, N)`. What changes?\n",
    "    \n",
    "    \n",
    "2. Repeat the above exercise for:\n",
    "  \n",
    "  a) a constant signal $x = 7$, 100 samples long\n",
    "  \n",
    "  b) an impulse of height 5: $x = [5, 0,0,0,0, \\dots]$, 100 samples long in total\n",
    "  \n",
    "  c) The ECG signal loaded from the file `ECG_Signal.mat`. What is the dominant frequency here? Why?\n",
    "  \n",
    "  d) A random signal of length 1000\n",
    "  \n",
    "  e) A piece from the middle of the song `Kalimba.mp3`, 1024 samples long\n",
    "    \n",
    "    \n",
    "3. Repeat Exercise 1 for a signal length of 93 samples. Why do additional frequency components appear in the spectrum?\n",
    "\n",
    "\n",
    "4. Generate a 39 samples long **triangular** signal `x` defined as:\n",
    "    - first 10 samples are zeros\n",
    "    - next, `x` increases linearly from `x(10) = 0` up to `x(19) = 4`, then decreases linearly \n",
    "      to `x(29) = 0`.\n",
    "    - last 10 samples are 0\n",
    "   \n",
    "    a. Plot the signal in the top third of a figure, \n",
    "    the magnitude of the DFT coefficients in the middle third, and their phase in the lower third.\n",
    "    \n",
    "    b. What is the amplitude of the **third harmonic component** \n",
    "    in the signal's spectrum?\n",
    "    \n",
    "    c. Concatenate 50 zeros at the end of the signal and redo the exercise.\n",
    "    What do you observe?\n",
    "\n",
    "\n",
    "5. Take the Fourier series coefficients of the triangular signal\n",
    "before, and keep only the coefficients of the DC + first two sinusoidal\n",
    "components. Generate the signal from the Fourier coefficients with `ifft()`\n",
    "and plot it.\n",
    "\n",
    "\n",
    "6. Generate two 10-long random signals `x` and `y`. \n",
    "\n",
    "    a. Perform **linear convolution** with `conv()`.\n",
    "    \n",
    "    b. Perform **circular convolution** via the frequency domain, using \n",
    "    `fft()` and `ifft()`.\n",
    "    \n",
    "    c. Perform **linear convolution** via the frequency domain using\n",
    "    the `fft` in $N$ points, with N larger then 19.\n",
    "    \n",
    "    d. Which method of linear convolution is is faster, `conv()` or via `fft()`?\n",
    "    Use long signals (e.g. length 40000).\n",
    "    \n",
    "\n",
    "## 5. Final questions\n",
    "\n",
    "\n",
    "1. How do you expect the amplitudes of the Fourier coefficients to be for:\n",
    "    - a slow varying signal\n",
    "    - a rapid varying signal"
   ]
  }
 ],
 "metadata": {
  "kernelspec": {
   "display_name": "Matlab",
   "language": "matlab",
   "name": "matlab"
  },
  "language_info": {
   "codemirror_mode": "octave",
   "file_extension": ".m",
   "help_links": [
    {
     "text": "MetaKernel Magics",
     "url": "https://metakernel.readthedocs.io/en/latest/source/README.html"
    }
   ],
   "mimetype": "text/x-octave",
   "name": "matlab",
   "version": "0.16.9"
  }
 },
 "nbformat": 4,
 "nbformat_minor": 4
}
